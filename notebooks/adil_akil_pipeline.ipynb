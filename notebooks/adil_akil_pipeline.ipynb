{
 "cells": [
  {
   "cell_type": "code",
   "execution_count": 29,
   "id": "10965c5f",
   "metadata": {},
   "outputs": [],
   "source": [
    "import os\n",
    "from dotenv import load_dotenv\n",
    "load_dotenv()\n",
    "\n",
    "PINECONE_API_KEY = os.getenv(\"PINECONE_API_KEY\")\n",
    "PINECONE_ENV = os.getenv(\"PINECONE_ENV\")"
   ]
  },
  {
   "cell_type": "code",
   "execution_count": 30,
   "id": "fd68a9ca",
   "metadata": {},
   "outputs": [
    {
     "name": "stderr",
     "output_type": "stream",
     "text": [
      "huggingface/tokenizers: The current process just got forked, after parallelism has already been used. Disabling parallelism to avoid deadlocks...\n",
      "To disable this warning, you can either:\n",
      "\t- Avoid using `tokenizers` before the fork if possible\n",
      "\t- Explicitly set the environment variable TOKENIZERS_PARALLELISM=(true | false)\n"
     ]
    },
    {
     "name": "stdout",
     "output_type": "stream",
     "text": [
      "Note: you may need to restart the kernel to use updated packages.\n"
     ]
    }
   ],
   "source": [
    "%pip install pinecone openai tqdm --quiet"
   ]
  },
  {
   "cell_type": "code",
   "execution_count": 31,
   "id": "e4788ec1",
   "metadata": {},
   "outputs": [
    {
     "name": "stderr",
     "output_type": "stream",
     "text": [
      "huggingface/tokenizers: The current process just got forked, after parallelism has already been used. Disabling parallelism to avoid deadlocks...\n",
      "To disable this warning, you can either:\n",
      "\t- Avoid using `tokenizers` before the fork if possible\n",
      "\t- Explicitly set the environment variable TOKENIZERS_PARALLELISM=(true | false)\n"
     ]
    },
    {
     "name": "stdout",
     "output_type": "stream",
     "text": [
      "Note: you may need to restart the kernel to use updated packages.\n"
     ]
    }
   ],
   "source": [
    "%pip install sentence-transformers --quiet"
   ]
  },
  {
   "cell_type": "code",
   "execution_count": 36,
   "id": "85c41847",
   "metadata": {},
   "outputs": [],
   "source": [
    "MAX_RECORDS = None # Tweak this to limit the number of records (None for all)\n",
    "BATCH_SIZE = 300"
   ]
  },
  {
   "cell_type": "code",
   "execution_count": 37,
   "id": "7b80ad79",
   "metadata": {},
   "outputs": [
    {
     "name": "stdout",
     "output_type": "stream",
     "text": [
      "✅ Loaded 13765 QA pairs for MiniLM\n",
      "✅ Batch 1 uploaded\n",
      "✅ Batch 2 uploaded\n",
      "✅ Batch 3 uploaded\n",
      "✅ Batch 4 uploaded\n",
      "✅ Batch 5 uploaded\n",
      "✅ Batch 6 uploaded\n",
      "✅ Batch 7 uploaded\n",
      "✅ Batch 8 uploaded\n",
      "✅ Batch 9 uploaded\n",
      "✅ Batch 10 uploaded\n",
      "✅ Batch 11 uploaded\n",
      "✅ Batch 12 uploaded\n",
      "✅ Batch 13 uploaded\n",
      "✅ Batch 14 uploaded\n",
      "✅ Batch 15 uploaded\n",
      "✅ Batch 16 uploaded\n",
      "✅ Batch 17 uploaded\n",
      "✅ Batch 18 uploaded\n",
      "✅ Batch 19 uploaded\n",
      "✅ Batch 20 uploaded\n",
      "✅ Batch 21 uploaded\n",
      "✅ Batch 22 uploaded\n",
      "✅ Batch 23 uploaded\n",
      "✅ Batch 24 uploaded\n",
      "✅ Batch 25 uploaded\n",
      "✅ Batch 26 uploaded\n",
      "✅ Batch 27 uploaded\n",
      "✅ Batch 28 uploaded\n",
      "✅ Batch 29 uploaded\n",
      "✅ Batch 30 uploaded\n",
      "✅ Batch 31 uploaded\n",
      "✅ Batch 32 uploaded\n",
      "✅ Batch 33 uploaded\n",
      "✅ Batch 34 uploaded\n",
      "✅ Batch 35 uploaded\n",
      "✅ Batch 36 uploaded\n",
      "✅ Batch 37 uploaded\n",
      "✅ Batch 38 uploaded\n",
      "✅ Batch 39 uploaded\n",
      "✅ Batch 40 uploaded\n",
      "✅ Batch 41 uploaded\n",
      "✅ Batch 42 uploaded\n",
      "✅ Batch 43 uploaded\n",
      "✅ Batch 44 uploaded\n",
      "✅ Batch 45 uploaded\n",
      "✅ Batch 46 uploaded\n",
      "🎉 MiniLM main index created.\n"
     ]
    }
   ],
   "source": [
    "import os\n",
    "import json\n",
    "import time\n",
    "from dotenv import load_dotenv\n",
    "from sentence_transformers import SentenceTransformer\n",
    "from pinecone import Pinecone, ServerlessSpec\n",
    "from tqdm import tqdm\n",
    "\n",
    "# === Config ===\n",
    "index_name = \"adilakil-main-minilm\"\n",
    "embedding_dim = 384\n",
    "batch_size = BATCH_SIZE\n",
    "jsonl_path = \"../data/main_index.jsonl\"\n",
    "max_records = MAX_RECORDS\n",
    "\n",
    "# === Load ENV ===\n",
    "load_dotenv()\n",
    "pc = Pinecone(api_key=os.getenv(\"PINECONE_API_KEY\"))\n",
    "\n",
    "# === Load Data ===\n",
    "qa_pairs = []\n",
    "with open(jsonl_path, \"r\", encoding=\"utf-8\") as f:\n",
    "    for i, line in enumerate(f):\n",
    "        if max_records is not None and i >= max_records:\n",
    "            break\n",
    "        item = json.loads(line)\n",
    "        if item[\"Q\"] and item[\"A\"]:\n",
    "            qa_pairs.append({\n",
    "                \"id\": f\"qa_{i}\",\n",
    "                \"question\": item[\"Q\"].strip(),\n",
    "                \"answer\": item[\"A\"].strip()\n",
    "            })\n",
    "\n",
    "print(f\"✅ Loaded {len(qa_pairs)} QA pairs for MiniLM\")\n",
    "\n",
    "# === Create Index ===\n",
    "if index_name in pc.list_indexes().names():\n",
    "    pc.delete_index(index_name)\n",
    "    time.sleep(2)\n",
    "\n",
    "pc.create_index(\n",
    "    name=index_name,\n",
    "    dimension=embedding_dim,\n",
    "    metric=\"cosine\",\n",
    "    spec=ServerlessSpec(cloud=\"aws\", region=\"us-east-1\")\n",
    ")\n",
    "\n",
    "index = pc.Index(index_name)\n",
    "\n",
    "# === Embedding\n",
    "model = SentenceTransformer(\"all-MiniLM-L6-v2\")\n",
    "questions = [qa[\"question\"] for qa in qa_pairs]\n",
    "embeddings = model.encode(questions, convert_to_tensor=False, batch_size=64)\n",
    "\n",
    "# === Upload\n",
    "vectors = [\n",
    "    {\n",
    "        \"id\": qa[\"id\"],\n",
    "        \"values\": embeddings[i],\n",
    "        \"metadata\": {\n",
    "            \"question\": qa[\"question\"],\n",
    "            \"answer\": qa[\"answer\"]\n",
    "        }\n",
    "    }\n",
    "    for i, qa in enumerate(qa_pairs)\n",
    "]\n",
    "\n",
    "for i in range(0, len(vectors), batch_size):\n",
    "    index.upsert(vectors=vectors[i:i+batch_size])\n",
    "    print(f\"✅ Batch {i//batch_size + 1} uploaded\")\n",
    "\n",
    "print(\"🎉 MiniLM main index created.\")"
   ]
  },
  {
   "cell_type": "code",
   "execution_count": 38,
   "id": "7d5f6e03",
   "metadata": {},
   "outputs": [
    {
     "name": "stdout",
     "output_type": "stream",
     "text": [
      "✅ Loaded 13765 QA pairs for OpenAI\n"
     ]
    },
    {
     "name": "stderr",
     "output_type": "stream",
     "text": [
      "📤 Embedding & Upload:   2%|▏         | 1/46 [00:17<12:52, 17.16s/it]"
     ]
    },
    {
     "name": "stdout",
     "output_type": "stream",
     "text": [
      "✅ Batch 1 uploaded\n"
     ]
    },
    {
     "name": "stderr",
     "output_type": "stream",
     "text": [
      "📤 Embedding & Upload:   4%|▍         | 2/46 [00:56<22:03, 30.07s/it]"
     ]
    },
    {
     "name": "stdout",
     "output_type": "stream",
     "text": [
      "✅ Batch 2 uploaded\n"
     ]
    },
    {
     "name": "stderr",
     "output_type": "stream",
     "text": [
      "📤 Embedding & Upload:   7%|▋         | 3/46 [01:11<16:50, 23.51s/it]"
     ]
    },
    {
     "name": "stdout",
     "output_type": "stream",
     "text": [
      "✅ Batch 3 uploaded\n"
     ]
    },
    {
     "name": "stderr",
     "output_type": "stream",
     "text": [
      "📤 Embedding & Upload:   9%|▊         | 4/46 [01:54<21:44, 31.06s/it]"
     ]
    },
    {
     "name": "stdout",
     "output_type": "stream",
     "text": [
      "✅ Batch 4 uploaded\n"
     ]
    },
    {
     "name": "stderr",
     "output_type": "stream",
     "text": [
      "📤 Embedding & Upload:  11%|█         | 5/46 [02:28<21:52, 32.02s/it]"
     ]
    },
    {
     "name": "stdout",
     "output_type": "stream",
     "text": [
      "✅ Batch 5 uploaded\n"
     ]
    },
    {
     "name": "stderr",
     "output_type": "stream",
     "text": [
      "📤 Embedding & Upload:  13%|█▎        | 6/46 [02:53<19:48, 29.72s/it]"
     ]
    },
    {
     "name": "stdout",
     "output_type": "stream",
     "text": [
      "✅ Batch 6 uploaded\n"
     ]
    },
    {
     "name": "stderr",
     "output_type": "stream",
     "text": [
      "📤 Embedding & Upload:  15%|█▌        | 7/46 [03:14<17:33, 27.01s/it]"
     ]
    },
    {
     "name": "stdout",
     "output_type": "stream",
     "text": [
      "✅ Batch 7 uploaded\n"
     ]
    },
    {
     "name": "stderr",
     "output_type": "stream",
     "text": [
      "📤 Embedding & Upload:  17%|█▋        | 8/46 [03:56<20:02, 31.64s/it]"
     ]
    },
    {
     "name": "stdout",
     "output_type": "stream",
     "text": [
      "✅ Batch 8 uploaded\n"
     ]
    },
    {
     "name": "stderr",
     "output_type": "stream",
     "text": [
      "📤 Embedding & Upload:  20%|█▉        | 9/46 [04:07<15:32, 25.19s/it]"
     ]
    },
    {
     "name": "stdout",
     "output_type": "stream",
     "text": [
      "✅ Batch 9 uploaded\n"
     ]
    },
    {
     "name": "stderr",
     "output_type": "stream",
     "text": [
      "📤 Embedding & Upload:  22%|██▏       | 10/46 [04:23<13:19, 22.20s/it]"
     ]
    },
    {
     "name": "stdout",
     "output_type": "stream",
     "text": [
      "✅ Batch 10 uploaded\n"
     ]
    },
    {
     "name": "stderr",
     "output_type": "stream",
     "text": [
      "📤 Embedding & Upload:  24%|██▍       | 11/46 [04:32<10:42, 18.36s/it]"
     ]
    },
    {
     "name": "stdout",
     "output_type": "stream",
     "text": [
      "✅ Batch 11 uploaded\n"
     ]
    },
    {
     "name": "stderr",
     "output_type": "stream",
     "text": [
      "📤 Embedding & Upload:  26%|██▌       | 12/46 [04:46<09:38, 17.02s/it]"
     ]
    },
    {
     "name": "stdout",
     "output_type": "stream",
     "text": [
      "✅ Batch 12 uploaded\n"
     ]
    },
    {
     "name": "stderr",
     "output_type": "stream",
     "text": [
      "📤 Embedding & Upload:  28%|██▊       | 13/46 [05:19<11:59, 21.79s/it]"
     ]
    },
    {
     "name": "stdout",
     "output_type": "stream",
     "text": [
      "✅ Batch 13 uploaded\n"
     ]
    },
    {
     "name": "stderr",
     "output_type": "stream",
     "text": [
      "📤 Embedding & Upload:  30%|███       | 14/46 [05:36<10:50, 20.34s/it]"
     ]
    },
    {
     "name": "stdout",
     "output_type": "stream",
     "text": [
      "✅ Batch 14 uploaded\n"
     ]
    },
    {
     "name": "stderr",
     "output_type": "stream",
     "text": [
      "📤 Embedding & Upload:  33%|███▎      | 15/46 [06:02<11:20, 21.96s/it]"
     ]
    },
    {
     "name": "stdout",
     "output_type": "stream",
     "text": [
      "✅ Batch 15 uploaded\n"
     ]
    },
    {
     "name": "stderr",
     "output_type": "stream",
     "text": [
      "📤 Embedding & Upload:  35%|███▍      | 16/46 [06:24<10:58, 21.96s/it]"
     ]
    },
    {
     "name": "stdout",
     "output_type": "stream",
     "text": [
      "✅ Batch 16 uploaded\n"
     ]
    },
    {
     "name": "stderr",
     "output_type": "stream",
     "text": [
      "📤 Embedding & Upload:  37%|███▋      | 17/46 [06:37<09:26, 19.52s/it]"
     ]
    },
    {
     "name": "stdout",
     "output_type": "stream",
     "text": [
      "✅ Batch 17 uploaded\n"
     ]
    },
    {
     "name": "stderr",
     "output_type": "stream",
     "text": [
      "📤 Embedding & Upload:  39%|███▉      | 18/46 [07:00<09:29, 20.35s/it]"
     ]
    },
    {
     "name": "stdout",
     "output_type": "stream",
     "text": [
      "✅ Batch 18 uploaded\n"
     ]
    },
    {
     "name": "stderr",
     "output_type": "stream",
     "text": [
      "📤 Embedding & Upload:  41%|████▏     | 19/46 [07:09<07:42, 17.11s/it]"
     ]
    },
    {
     "name": "stdout",
     "output_type": "stream",
     "text": [
      "✅ Batch 19 uploaded\n"
     ]
    },
    {
     "name": "stderr",
     "output_type": "stream",
     "text": [
      "📤 Embedding & Upload:  43%|████▎     | 20/46 [07:20<06:32, 15.08s/it]"
     ]
    },
    {
     "name": "stdout",
     "output_type": "stream",
     "text": [
      "✅ Batch 20 uploaded\n"
     ]
    },
    {
     "name": "stderr",
     "output_type": "stream",
     "text": [
      "📤 Embedding & Upload:  46%|████▌     | 21/46 [07:40<06:55, 16.64s/it]"
     ]
    },
    {
     "name": "stdout",
     "output_type": "stream",
     "text": [
      "✅ Batch 21 uploaded\n"
     ]
    },
    {
     "name": "stderr",
     "output_type": "stream",
     "text": [
      "📤 Embedding & Upload:  48%|████▊     | 22/46 [07:54<06:18, 15.76s/it]"
     ]
    },
    {
     "name": "stdout",
     "output_type": "stream",
     "text": [
      "✅ Batch 22 uploaded\n"
     ]
    },
    {
     "name": "stderr",
     "output_type": "stream",
     "text": [
      "📤 Embedding & Upload:  50%|█████     | 23/46 [08:21<07:25, 19.36s/it]"
     ]
    },
    {
     "name": "stdout",
     "output_type": "stream",
     "text": [
      "✅ Batch 23 uploaded\n"
     ]
    },
    {
     "name": "stderr",
     "output_type": "stream",
     "text": [
      "📤 Embedding & Upload:  52%|█████▏    | 24/46 [08:39<06:52, 18.74s/it]"
     ]
    },
    {
     "name": "stdout",
     "output_type": "stream",
     "text": [
      "✅ Batch 24 uploaded\n"
     ]
    },
    {
     "name": "stderr",
     "output_type": "stream",
     "text": [
      "📤 Embedding & Upload:  54%|█████▍    | 25/46 [08:47<05:30, 15.74s/it]"
     ]
    },
    {
     "name": "stdout",
     "output_type": "stream",
     "text": [
      "✅ Batch 25 uploaded\n"
     ]
    },
    {
     "name": "stderr",
     "output_type": "stream",
     "text": [
      "📤 Embedding & Upload:  57%|█████▋    | 26/46 [08:58<04:40, 14.03s/it]"
     ]
    },
    {
     "name": "stdout",
     "output_type": "stream",
     "text": [
      "✅ Batch 26 uploaded\n"
     ]
    },
    {
     "name": "stderr",
     "output_type": "stream",
     "text": [
      "📤 Embedding & Upload:  59%|█████▊    | 27/46 [09:10<04:15, 13.47s/it]"
     ]
    },
    {
     "name": "stdout",
     "output_type": "stream",
     "text": [
      "✅ Batch 27 uploaded\n"
     ]
    },
    {
     "name": "stderr",
     "output_type": "stream",
     "text": [
      "📤 Embedding & Upload:  61%|██████    | 28/46 [09:30<04:39, 15.55s/it]"
     ]
    },
    {
     "name": "stdout",
     "output_type": "stream",
     "text": [
      "✅ Batch 28 uploaded\n"
     ]
    },
    {
     "name": "stderr",
     "output_type": "stream",
     "text": [
      "📤 Embedding & Upload:  63%|██████▎   | 29/46 [10:02<05:49, 20.58s/it]"
     ]
    },
    {
     "name": "stdout",
     "output_type": "stream",
     "text": [
      "✅ Batch 29 uploaded\n"
     ]
    },
    {
     "name": "stderr",
     "output_type": "stream",
     "text": [
      "📤 Embedding & Upload:  65%|██████▌   | 30/46 [10:18<05:03, 18.96s/it]"
     ]
    },
    {
     "name": "stdout",
     "output_type": "stream",
     "text": [
      "✅ Batch 30 uploaded\n"
     ]
    },
    {
     "name": "stderr",
     "output_type": "stream",
     "text": [
      "📤 Embedding & Upload:  67%|██████▋   | 31/46 [10:36<04:41, 18.79s/it]"
     ]
    },
    {
     "name": "stdout",
     "output_type": "stream",
     "text": [
      "✅ Batch 31 uploaded\n"
     ]
    },
    {
     "name": "stderr",
     "output_type": "stream",
     "text": [
      "📤 Embedding & Upload:  70%|██████▉   | 32/46 [11:13<05:41, 24.37s/it]"
     ]
    },
    {
     "name": "stdout",
     "output_type": "stream",
     "text": [
      "✅ Batch 32 uploaded\n"
     ]
    },
    {
     "name": "stderr",
     "output_type": "stream",
     "text": [
      "📤 Embedding & Upload:  72%|███████▏  | 33/46 [11:51<06:07, 28.24s/it]"
     ]
    },
    {
     "name": "stdout",
     "output_type": "stream",
     "text": [
      "✅ Batch 33 uploaded\n"
     ]
    },
    {
     "name": "stderr",
     "output_type": "stream",
     "text": [
      "📤 Embedding & Upload:  74%|███████▍  | 34/46 [13:34<10:08, 50.70s/it]"
     ]
    },
    {
     "name": "stdout",
     "output_type": "stream",
     "text": [
      "✅ Batch 34 uploaded\n"
     ]
    },
    {
     "name": "stderr",
     "output_type": "stream",
     "text": [
      "📤 Embedding & Upload:  76%|███████▌  | 35/46 [13:50<07:22, 40.25s/it]"
     ]
    },
    {
     "name": "stdout",
     "output_type": "stream",
     "text": [
      "✅ Batch 35 uploaded\n"
     ]
    },
    {
     "name": "stderr",
     "output_type": "stream",
     "text": [
      "📤 Embedding & Upload:  78%|███████▊  | 36/46 [14:19<06:10, 37.07s/it]"
     ]
    },
    {
     "name": "stdout",
     "output_type": "stream",
     "text": [
      "✅ Batch 36 uploaded\n"
     ]
    },
    {
     "name": "stderr",
     "output_type": "stream",
     "text": [
      "📤 Embedding & Upload:  80%|████████  | 37/46 [14:48<05:11, 34.63s/it]"
     ]
    },
    {
     "name": "stdout",
     "output_type": "stream",
     "text": [
      "✅ Batch 37 uploaded\n"
     ]
    },
    {
     "name": "stderr",
     "output_type": "stream",
     "text": [
      "📤 Embedding & Upload:  83%|████████▎ | 38/46 [15:00<03:43, 27.89s/it]"
     ]
    },
    {
     "name": "stdout",
     "output_type": "stream",
     "text": [
      "✅ Batch 38 uploaded\n"
     ]
    },
    {
     "name": "stderr",
     "output_type": "stream",
     "text": [
      "📤 Embedding & Upload:  85%|████████▍ | 39/46 [15:42<03:43, 31.95s/it]"
     ]
    },
    {
     "name": "stdout",
     "output_type": "stream",
     "text": [
      "✅ Batch 39 uploaded\n"
     ]
    },
    {
     "name": "stderr",
     "output_type": "stream",
     "text": [
      "📤 Embedding & Upload:  87%|████████▋ | 40/46 [16:23<03:28, 34.71s/it]"
     ]
    },
    {
     "name": "stdout",
     "output_type": "stream",
     "text": [
      "✅ Batch 40 uploaded\n"
     ]
    },
    {
     "name": "stderr",
     "output_type": "stream",
     "text": [
      "📤 Embedding & Upload:  89%|████████▉ | 41/46 [16:43<02:31, 30.40s/it]"
     ]
    },
    {
     "name": "stdout",
     "output_type": "stream",
     "text": [
      "✅ Batch 41 uploaded\n"
     ]
    },
    {
     "name": "stderr",
     "output_type": "stream",
     "text": [
      "📤 Embedding & Upload:  91%|█████████▏| 42/46 [17:15<02:03, 30.85s/it]"
     ]
    },
    {
     "name": "stdout",
     "output_type": "stream",
     "text": [
      "✅ Batch 42 uploaded\n"
     ]
    },
    {
     "name": "stderr",
     "output_type": "stream",
     "text": [
      "📤 Embedding & Upload:  93%|█████████▎| 43/46 [17:53<01:39, 33.04s/it]"
     ]
    },
    {
     "name": "stdout",
     "output_type": "stream",
     "text": [
      "✅ Batch 43 uploaded\n"
     ]
    },
    {
     "name": "stderr",
     "output_type": "stream",
     "text": [
      "📤 Embedding & Upload:  96%|█████████▌| 44/46 [18:37<01:12, 36.15s/it]"
     ]
    },
    {
     "name": "stdout",
     "output_type": "stream",
     "text": [
      "✅ Batch 44 uploaded\n"
     ]
    },
    {
     "name": "stderr",
     "output_type": "stream",
     "text": [
      "📤 Embedding & Upload:  98%|█████████▊| 45/46 [18:55<00:30, 30.85s/it]"
     ]
    },
    {
     "name": "stdout",
     "output_type": "stream",
     "text": [
      "✅ Batch 45 uploaded\n"
     ]
    },
    {
     "name": "stderr",
     "output_type": "stream",
     "text": [
      "📤 Embedding & Upload: 100%|██████████| 46/46 [19:04<00:00, 24.88s/it]"
     ]
    },
    {
     "name": "stdout",
     "output_type": "stream",
     "text": [
      "✅ Batch 46 uploaded\n",
      "🎉 OpenAI main index created.\n"
     ]
    },
    {
     "name": "stderr",
     "output_type": "stream",
     "text": [
      "\n"
     ]
    }
   ],
   "source": [
    "import os\n",
    "import json\n",
    "import time\n",
    "from dotenv import load_dotenv\n",
    "from openai import OpenAI\n",
    "from pinecone import Pinecone, ServerlessSpec\n",
    "from tqdm import tqdm\n",
    "\n",
    "# === Config ===\n",
    "index_name = \"adilakil-main-openai\"\n",
    "embedding_dim = 1536\n",
    "batch_size = BATCH_SIZE\n",
    "jsonl_path = \"../data/main_index.jsonl\"\n",
    "max_records = MAX_RECORDS\n",
    "\n",
    "# === Load ENV ===\n",
    "load_dotenv()\n",
    "client = OpenAI(api_key=os.getenv(\"OPENAI_API_KEY\"))\n",
    "pc = Pinecone(api_key=os.getenv(\"PINECONE_API_KEY\"))\n",
    "\n",
    "# === Load Data ===\n",
    "qa_pairs = []\n",
    "with open(jsonl_path, \"r\", encoding=\"utf-8\") as f:\n",
    "    for i, line in enumerate(f):\n",
    "        if max_records is not None and i >= max_records:\n",
    "            break\n",
    "        item = json.loads(line)\n",
    "        if item[\"Q\"] and item[\"A\"]:\n",
    "            qa_pairs.append({\n",
    "                \"id\": f\"main_{i}\",\n",
    "                \"question\": item[\"Q\"].strip(),\n",
    "                \"answer\": item[\"A\"].strip()\n",
    "            })\n",
    "\n",
    "print(f\"✅ Loaded {len(qa_pairs)} QA pairs for OpenAI\")\n",
    "\n",
    "# === Create Index ===\n",
    "if index_name in pc.list_indexes().names():\n",
    "    pc.delete_index(index_name)\n",
    "    time.sleep(2)\n",
    "\n",
    "pc.create_index(\n",
    "    name=index_name,\n",
    "    dimension=embedding_dim,\n",
    "    metric=\"cosine\",\n",
    "    spec=ServerlessSpec(cloud=\"aws\", region=\"us-east-1\")\n",
    ")\n",
    "\n",
    "index = pc.Index(index_name)\n",
    "\n",
    "# === Embedding Function\n",
    "def get_embeddings_batch(texts):\n",
    "    response = client.embeddings.create(\n",
    "        model=\"text-embedding-3-small\",\n",
    "        input=texts\n",
    "    )\n",
    "    return [item.embedding for item in response.data]\n",
    "\n",
    "# === Embed + Upload\n",
    "for i in tqdm(range(0, len(qa_pairs), batch_size), desc=\"📤 Embedding & Upload\"):\n",
    "    batch = qa_pairs[i:i+batch_size]\n",
    "    try:\n",
    "        questions = [x[\"question\"] for x in batch]\n",
    "        embeddings = get_embeddings_batch(questions)\n",
    "\n",
    "        vectors = [\n",
    "            {\n",
    "                \"id\": batch[j][\"id\"],\n",
    "                \"values\": embeddings[j],\n",
    "                \"metadata\": {\n",
    "                    \"question\": batch[j][\"question\"],\n",
    "                    \"answer\": batch[j][\"answer\"]\n",
    "                }\n",
    "            }\n",
    "            for j in range(len(batch))\n",
    "        ]\n",
    "        index.upsert(vectors=vectors)\n",
    "        print(f\"✅ Batch {i//batch_size + 1} uploaded\")\n",
    "    except Exception as e:\n",
    "        print(f\"❌ Error in batch {i//batch_size + 1}: {e}\")\n",
    "\n",
    "print(\"🎉 OpenAI main index created.\")"
   ]
  },
  {
   "cell_type": "code",
   "execution_count": 39,
   "id": "bbfbedd9",
   "metadata": {},
   "outputs": [
    {
     "name": "stdout",
     "output_type": "stream",
     "text": [
      "🔎 User Query: Cumhurbaşkanı'nın görev ve yetkileri nelerdir?\n",
      "\n",
      "🔹 MiniLM Results:\n",
      "\n",
      "Score: 0.9830\n",
      "Q: Cumhurbaşkanının temel görev ve yetkileri nelerdir?\n",
      "A: Cumhurbaşkanı, Devletin başıdır ve yürütme yetkisini kullanır. Devlet başkanı sıfatıyla Türkiye Cumhuriyetini ve Türk Milletinin birliğini temsil eder, Anayasanın uygulanmasını, Devlet organlarının düzenli ve uyumlu çalışmasını temin eder. Yasama yılının ilk günü Türkiye Büyük Millet Meclisinde açılış konuşmasını yapar, ülkenin iç ve dış siyaseti hakkında Meclise mesaj verir, kanunları yayımlar, kanunları tekrar görüşülmek üzere Türkiye Büyük Millet Meclisine geri gönderir, kanunların Anayasaya aykırı olduğu gerekçesiyle Anayasa Mahkemesinde iptal davası açar, Cumhurbaşkanı yardımcıları ile bakanları atar ve görevlerine son verir, üst kademe kamu yöneticilerini atar, görevlerine son verir, yabancı devletlere Türkiye Cumhuriyetinin temsilcilerini gönderir, yabancı devlet temsilcilerini kabul eder, milletlerarası andlaşmaları onaylar ve yayımlar, Anayasa değişikliklerine ilişkin kanunları halkoyuna sunar, milli güvenlik politikalarını belirler, Türkiye Büyük Millet Meclisi adına Türk Silahlı Kuvvetlerinin Başkomutanlığını temsil eder, Türk Silahlı Kuvvetlerinin kullanılmasına karar verir ve sürekli hastalık, sakatlık ve kocama sebebiyle kişilerin cezalarını hafifletir veya kaldırır.\n",
      "\n",
      "Score: 0.9273\n",
      "Q: Cumhurbaşkanlığı Konseyi'nin görevleri nelerdir?\n",
      "A: Cumhurbaşkanlığı Konseyi'nin görevleri şunlardır:\n",
      "\n",
      "* **Kanun İncelemesi:** Türkiye Büyük Millet Meclisince kabul edilerek Cumhurbaşkanlığına gönderilen, Anayasada yazılı temel hak ve hürriyetlere, laiklik ilkesine, Atatürk inkılaplarının, milli güvenliğin ve kamu düzeninin korunmasına, Türkiye Radyo - Televizyon Kurumuna, Milletlerarası andlaşmalara, dış ülkelere silahlı kuvvet gönderilmesine ve yabancı kuvvetlerin Türkiyeye kabulüne, olağanüstü yönetime, sıkıyönetim ve savaş haline dair kanunlar ile Cumhurbaşkanınca gerekli görülen diğer kanunları Cumhurbaşkanına tanınan onbeş günlük sürenin ilk on günü içinde incelemek.\n",
      "* **Konu İncelemesi:** Cumhurbaşkanının istemi ve tespit edeceği süre içinde, milletvekili genel seçimlerinin yenilenmesine, olağanüstü yönetim yetkisinin kullanılmasına ve alınacak tedbirlere, Türkiye Radyo - Televizyon Kurumunun yönetim ve gözetimine, gençliğin yetiştirilmesine ve Diyanet İşlerinin düzenlenmesine ilişkin konuları incelemek ve görüş bildirmek.\n",
      "* **İnceleme ve Araştırma:** Cumhurbaşkanının istemine göre, iç ve dış güvenlik ile gerekli görülen diğer konularda inceleme ve araştırma yapmak ve sonuçlarını Cumhurbaşkanına sunmak.\n",
      "\n",
      "Bu görevler, Cumhurbaşkanlığı Konseyi'nin danışmanlık ve yönlendirme rolünü ortaya koymaktadır.\n",
      "\n",
      "Score: 0.9258\n",
      "Q: Cumhurbaşkanının, yabancı devletlerle ilişkilerde sahip olduğu yetkiler nelerdir?\n",
      "A: Cumhurbaşkanı, yabancı devletlere Türkiye Cumhuriyetinin temsilcilerini gönderir ve Türkiye Cumhuriyetine gönderilecek yabancı devlet temsilcilerini kabul eder.\n",
      "\n",
      "Score: 0.9029\n",
      "Q: Cumhuriyet savcısının görevleri nelerdir?\n",
      "A: Cumhuriyet savcısı, iddianame hazırlar, dava açar ve davanın takibini yapar.\n",
      "\n",
      "Score: 0.9010\n",
      "Q: Cumhurbaşkanı yardımcılarının görevleri nelerdir?\n",
      "A: Cumhurbaşkanı yardımcıları, Cumhurbaşkanına vekâlet eder ve bakanlar arasında koordinasyonu sağlarlar. Ayrıca, Cumhurbaşkanının belirlediği özel görevleri yerine getirirler.\n",
      "\n",
      "🔹 OpenAI Results:\n",
      "\n",
      "Score: 0.8902\n",
      "Q: Cumhurbaşkanının temel görev ve yetkileri nelerdir?\n",
      "A: Cumhurbaşkanı, Devletin başıdır ve yürütme yetkisini kullanır. Devlet başkanı sıfatıyla Türkiye Cumhuriyetini ve Türk Milletinin birliğini temsil eder, Anayasanın uygulanmasını, Devlet organlarının düzenli ve uyumlu çalışmasını temin eder. Yasama yılının ilk günü Türkiye Büyük Millet Meclisinde açılış konuşmasını yapar, ülkenin iç ve dış siyaseti hakkında Meclise mesaj verir, kanunları yayımlar, kanunları tekrar görüşülmek üzere Türkiye Büyük Millet Meclisine geri gönderir, kanunların Anayasaya aykırı olduğu gerekçesiyle Anayasa Mahkemesinde iptal davası açar, Cumhurbaşkanı yardımcıları ile bakanları atar ve görevlerine son verir, üst kademe kamu yöneticilerini atar, görevlerine son verir, yabancı devletlere Türkiye Cumhuriyetinin temsilcilerini gönderir, yabancı devlet temsilcilerini kabul eder, milletlerarası andlaşmaları onaylar ve yayımlar, Anayasa değişikliklerine ilişkin kanunları halkoyuna sunar, milli güvenlik politikalarını belirler, Türkiye Büyük Millet Meclisi adına Türk Silahlı Kuvvetlerinin Başkomutanlığını temsil eder, Türk Silahlı Kuvvetlerinin kullanılmasına karar verir ve sürekli hastalık, sakatlık ve kocama sebebiyle kişilerin cezalarını hafifletir veya kaldırır.\n",
      "\n",
      "Score: 0.7676\n",
      "Q: Cumhurbaşkanının görev süresi ne kadardır?\n",
      "A: Cumhurbaşkanının görev süresi beş yıldır. Beş yıllık bir dönem için seçilen Cumhurbaşkanı, en fazla iki defa bu göreve seçilebilir. Yani aynı kişi toplamda en fazla on yıl Cumhurbaşkanlığı görevini yürütebilir.\n",
      "\n",
      "Score: 0.7556\n",
      "Q: Cumhurbaşkanlığı Konseyi'nin görevleri nelerdir?\n",
      "A: Cumhurbaşkanlığı Konseyi'nin görevleri şunlardır:\n",
      "\n",
      "* **Kanun İncelemesi:** Türkiye Büyük Millet Meclisince kabul edilerek Cumhurbaşkanlığına gönderilen, Anayasada yazılı temel hak ve hürriyetlere, laiklik ilkesine, Atatürk inkılaplarının, milli güvenliğin ve kamu düzeninin korunmasına, Türkiye Radyo - Televizyon Kurumuna, Milletlerarası andlaşmalara, dış ülkelere silahlı kuvvet gönderilmesine ve yabancı kuvvetlerin Türkiyeye kabulüne, olağanüstü yönetime, sıkıyönetim ve savaş haline dair kanunlar ile Cumhurbaşkanınca gerekli görülen diğer kanunları Cumhurbaşkanına tanınan onbeş günlük sürenin ilk on günü içinde incelemek.\n",
      "* **Konu İncelemesi:** Cumhurbaşkanının istemi ve tespit edeceği süre içinde, milletvekili genel seçimlerinin yenilenmesine, olağanüstü yönetim yetkisinin kullanılmasına ve alınacak tedbirlere, Türkiye Radyo - Televizyon Kurumunun yönetim ve gözetimine, gençliğin yetiştirilmesine ve Diyanet İşlerinin düzenlenmesine ilişkin konuları incelemek ve görüş bildirmek.\n",
      "* **İnceleme ve Araştırma:** Cumhurbaşkanının istemine göre, iç ve dış güvenlik ile gerekli görülen diğer konularda inceleme ve araştırma yapmak ve sonuçlarını Cumhurbaşkanına sunmak.\n",
      "\n",
      "Bu görevler, Cumhurbaşkanlığı Konseyi'nin danışmanlık ve yönlendirme rolünü ortaya koymaktadır.\n",
      "\n",
      "Score: 0.7422\n",
      "Q: Cumhurbaşkanının, yabancı devletlerle ilişkilerde sahip olduğu yetkiler nelerdir?\n",
      "A: Cumhurbaşkanı, yabancı devletlere Türkiye Cumhuriyetinin temsilcilerini gönderir ve Türkiye Cumhuriyetine gönderilecek yabancı devlet temsilcilerini kabul eder.\n",
      "\n",
      "Score: 0.7343\n",
      "Q: Cumhurbaşkanı yardımcılarının görevleri nelerdir?\n",
      "A: Cumhurbaşkanı yardımcıları, Cumhurbaşkanına vekâlet eder ve bakanlar arasında koordinasyonu sağlarlar. Ayrıca, Cumhurbaşkanının belirlediği özel görevleri yerine getirirler.\n",
      "\n"
     ]
    }
   ],
   "source": [
    "import os\n",
    "from dotenv import load_dotenv\n",
    "from openai import OpenAI\n",
    "from sentence_transformers import SentenceTransformer\n",
    "from pinecone import Pinecone\n",
    "import matplotlib.pyplot as plt\n",
    "\n",
    "# === Load environment variables ===\n",
    "load_dotenv()\n",
    "openai_api_key = os.getenv(\"OPENAI_API_KEY\")\n",
    "pinecone_api_key = os.getenv(\"PINECONE_API_KEY\")\n",
    "\n",
    "# === Initialize clients ===\n",
    "client = OpenAI(api_key=openai_api_key)\n",
    "pc = Pinecone(api_key=pinecone_api_key)\n",
    "\n",
    "# === Indexes ===\n",
    "index_minilm = pc.Index(\"adilakil-main-minilm\")\n",
    "index_openai = pc.Index(\"adilakil-main-openai\")\n",
    "\n",
    "# === Load MiniLM model ===\n",
    "minilm_model = SentenceTransformer(\"all-MiniLM-L6-v2\")\n",
    "\n",
    "# === User Query ===\n",
    "user_query = \"Cumhurbaşkanı'nın görev ve yetkileri nelerdir?\"\n",
    "\n",
    "# === Embed query ===\n",
    "# 1. MiniLM\n",
    "minilm_vector = minilm_model.encode(user_query).tolist()\n",
    "\n",
    "# 2. OpenAI\n",
    "openai_vector = client.embeddings.create(\n",
    "    model=\"text-embedding-3-small\",\n",
    "    input=user_query\n",
    ").data[0].embedding\n",
    "\n",
    "# === Query Pinecone ===\n",
    "top_k = 5\n",
    "results_minilm = index_minilm.query(\n",
    "    vector=minilm_vector,\n",
    "    top_k=top_k,\n",
    "    include_metadata=True\n",
    ")\n",
    "results_openai = index_openai.query(\n",
    "    vector=openai_vector,\n",
    "    top_k=top_k,\n",
    "    include_metadata=True\n",
    ")\n",
    "\n",
    "# === Print results ===\n",
    "print(f\"🔎 User Query: {user_query}\\n\")\n",
    "\n",
    "print(\"🔹 MiniLM Results:\\n\")\n",
    "for match in results_minilm['matches']:\n",
    "    print(f\"Score: {match['score']:.4f}\")\n",
    "    print(f\"Q: {match['metadata']['question']}\")\n",
    "    print(f\"A: {match['metadata']['answer']}\\n\")\n",
    "\n",
    "print(\"🔹 OpenAI Results:\\n\")\n",
    "for match in results_openai['matches']:\n",
    "    print(f\"Score: {match['score']:.4f}\")\n",
    "    print(f\"Q: {match['metadata']['question']}\")\n",
    "    print(f\"A: {match['metadata']['answer']}\\n\")"
   ]
  },
  {
   "cell_type": "code",
   "execution_count": 40,
   "id": "d64d406a",
   "metadata": {},
   "outputs": [
    {
     "data": {
      "image/png": "[encoded data removed]",
      "text/plain": [
       "<Figure size 1000x500 with 1 Axes>"
      ]
     },
     "metadata": {},
     "output_type": "display_data"
    }
   ],
   "source": [
    "# === Visualize Score Comparison ===\n",
    "from turtle import color\n",
    "\n",
    "\n",
    "num_matches = min(len(results_minilm['matches']), len(results_openai['matches']))\n",
    "\n",
    "if num_matches == 0:\n",
    "    print(\"❌ No matches returned from either index.\")\n",
    "else:\n",
    "    labels = [f\"#{i+1}\" for i in range(num_matches)]\n",
    "    scores_minilm = [m['score'] for m in results_minilm['matches'][:num_matches]]\n",
    "    scores_openai = [m['score'] for m in results_openai['matches'][:num_matches]]\n",
    "\n",
    "    x = range(num_matches)\n",
    "    width = 0.35\n",
    "\n",
    "    plt.figure(figsize=(10, 5))\n",
    "    plt.bar(x, scores_minilm, width=width, label='MiniLM', color='salmon')\n",
    "    plt.bar([i + width for i in x], scores_openai, width=width, label='OpenAI', color='lightblue')\n",
    "    plt.xlabel(\"Top-k Matches\")\n",
    "    plt.ylabel(\"Similarity Score\")\n",
    "    plt.title(\"Embedding Similarity Comparison: MiniLM vs OpenAI\")\n",
    "    plt.xticks([i + width/2 for i in x], labels)\n",
    "    plt.legend()\n",
    "    plt.grid(True, linestyle='--', alpha=0.5)\n",
    "    plt.tight_layout()\n",
    "    plt.show()"
   ]
  },
  {
   "cell_type": "code",
   "execution_count": 41,
   "id": "637e9199",
   "metadata": {},
   "outputs": [
    {
     "name": "stdout",
     "output_type": "stream",
     "text": [
      "📊 Top-3 comparison across 10 complex queries...\n",
      "\n",
      "🔎 Q1: Deprem gibi durumlarda seçimler ertelenebilir mi? Kim karar veriyor buna?\n",
      "\n",
      "MiniLM avg top-3 score: 0.6696\n",
      "OpenAI avg top-3 score: 0.6567\n",
      "--------------------------------------------------------------------------------\n",
      "🔎 Q2: HSK tam olarak ne iş yapar? Bağımsız mı hareket eder?\n",
      "\n",
      "MiniLM avg top-3 score: 0.8278\n",
      "OpenAI avg top-3 score: 0.4877\n",
      "--------------------------------------------------------------------------------\n",
      "🔎 Q3: Zorunlu din dersi varken din özgürlüğünden söz edebilir miyiz?\n",
      "\n",
      "MiniLM avg top-3 score: 0.6501\n",
      "OpenAI avg top-3 score: 0.6223\n",
      "--------------------------------------------------------------------------------\n",
      "🔎 Q4: Savaş ilanı ile olağanüstü hal arasında ne fark var?\n",
      "\n",
      "MiniLM avg top-3 score: 0.8284\n",
      "OpenAI avg top-3 score: 0.6061\n",
      "--------------------------------------------------------------------------------\n",
      "🔎 Q5: Bir milletvekilinin dokunulmazlığı ne zaman kaldırılır? Bu kararı kim verir?\n",
      "\n",
      "MiniLM avg top-3 score: 0.8395\n",
      "OpenAI avg top-3 score: 0.6842\n",
      "--------------------------------------------------------------------------------\n",
      "🔎 Q6: Cumhurbaşkanı bir yasayı beğenmezse veto edebiliyor mu? Bunun sınırları var mı?\n",
      "\n",
      "MiniLM avg top-3 score: 0.7670\n",
      "OpenAI avg top-3 score: 0.6578\n",
      "--------------------------------------------------------------------------------\n",
      "🔎 Q7: Devlet hangi durumlarda temel hakları sınırlayabilir?\n",
      "\n",
      "MiniLM avg top-3 score: 0.9196\n",
      "OpenAI avg top-3 score: 0.7009\n",
      "--------------------------------------------------------------------------------\n",
      "🔎 Q8: Devlet memuru olmak için ne gibi şartlar var? Herkes kamu görevine girebilir mi?\n",
      "\n",
      "MiniLM avg top-3 score: 0.6541\n",
      "OpenAI avg top-3 score: 0.6168\n",
      "--------------------------------------------------------------------------------\n",
      "🔎 Q9: Anayasa Mahkemesi’ne bireysel başvuru ne zaman yapılabilir? Ne tür hak ihlalleri için geçerli?\n",
      "\n",
      "MiniLM avg top-3 score: 0.8170\n",
      "OpenAI avg top-3 score: 0.8054\n",
      "--------------------------------------------------------------------------------\n",
      "🔎 Q10: Cumhurbaşkanı kendi başına kararname çıkarabiliyor mu? Bunlar mahkemeye taşınabilir mi?\n",
      "\n",
      "MiniLM avg top-3 score: 0.8398\n",
      "OpenAI avg top-3 score: 0.7359\n",
      "--------------------------------------------------------------------------------\n"
     ]
    }
   ],
   "source": [
    "import os\n",
    "from dotenv import load_dotenv\n",
    "from openai import OpenAI\n",
    "from sentence_transformers import SentenceTransformer\n",
    "from pinecone import Pinecone\n",
    "import matplotlib.pyplot as plt\n",
    "import numpy as np\n",
    "\n",
    "# === Load env ===\n",
    "load_dotenv()\n",
    "openai_api_key = os.getenv(\"OPENAI_API_KEY\")\n",
    "pinecone_api_key = os.getenv(\"PINECONE_API_KEY\")\n",
    "client = OpenAI(api_key=openai_api_key)\n",
    "pc = Pinecone(api_key=pinecone_api_key)\n",
    "\n",
    "# === Load models & indexes ===\n",
    "minilm_model = SentenceTransformer(\"all-MiniLM-L6-v2\")\n",
    "index_minilm = pc.Index(\"adilakil-main-minilm\")\n",
    "index_openai = pc.Index(\"adilakil-main-openai\")\n",
    "\n",
    "# === Config ===\n",
    "top_k = 3 # Tweak this value to see how it affects the results\n",
    "\n",
    "# === Complex queries ===\n",
    "query_list = [\n",
    "    \"Deprem gibi durumlarda seçimler ertelenebilir mi? Kim karar veriyor buna?\",\n",
    "    \"HSK tam olarak ne iş yapar? Bağımsız mı hareket eder?\",\n",
    "    \"Zorunlu din dersi varken din özgürlüğünden söz edebilir miyiz?\",\n",
    "    \"Savaş ilanı ile olağanüstü hal arasında ne fark var?\",\n",
    "    \"Bir milletvekilinin dokunulmazlığı ne zaman kaldırılır? Bu kararı kim verir?\",\n",
    "    \"Cumhurbaşkanı bir yasayı beğenmezse veto edebiliyor mu? Bunun sınırları var mı?\",\n",
    "    \"Devlet hangi durumlarda temel hakları sınırlayabilir?\",\n",
    "    \"Devlet memuru olmak için ne gibi şartlar var? Herkes kamu görevine girebilir mi?\",\n",
    "    \"Anayasa Mahkemesi’ne bireysel başvuru ne zaman yapılabilir? Ne tür hak ihlalleri için geçerli?\",\n",
    "    \"Cumhurbaşkanı kendi başına kararname çıkarabiliyor mu? Bunlar mahkemeye taşınabilir mi?\"\n",
    "]\n",
    "\n",
    "# === Collect top-k average scores ===\n",
    "avg_scores_minilm = []\n",
    "avg_scores_openai = []\n",
    "\n",
    "print(f\"📊 Top-{top_k} comparison across {len(query_list)} complex queries...\\n\")\n",
    "\n",
    "for i, query in enumerate(query_list):\n",
    "    print(f\"🔎 Q{i+1}: {query}\\n\")\n",
    "\n",
    "    # === MiniLM\n",
    "    vec_minilm = minilm_model.encode(query).tolist()\n",
    "    result_minilm = index_minilm.query(vector=vec_minilm, top_k=top_k, include_metadata=True)\n",
    "\n",
    "    if result_minilm['matches']:\n",
    "        scores_m = [m['score'] for m in result_minilm['matches']]\n",
    "        mean_m = np.mean(scores_m)\n",
    "        avg_scores_minilm.append(mean_m)\n",
    "        print(f\"MiniLM avg top-{top_k} score: {mean_m:.4f}\")\n",
    "    else:\n",
    "        avg_scores_minilm.append(0)\n",
    "        print(\"MiniLM returned no matches.\")\n",
    "\n",
    "    # === OpenAI\n",
    "    vec_openai = client.embeddings.create(\n",
    "        model=\"text-embedding-3-small\",\n",
    "        input=query\n",
    "    ).data[0].embedding\n",
    "\n",
    "    result_openai = index_openai.query(vector=vec_openai, top_k=top_k, include_metadata=True)\n",
    "\n",
    "    if result_openai['matches']:\n",
    "        scores_o = [m['score'] for m in result_openai['matches']]\n",
    "        mean_o = np.mean(scores_o)\n",
    "        avg_scores_openai.append(mean_o)\n",
    "        print(f\"OpenAI avg top-{top_k} score: {mean_o:.4f}\")\n",
    "    else:\n",
    "        avg_scores_openai.append(0)\n",
    "        print(\"OpenAI returned no matches.\")\n",
    "\n",
    "    print(\"-\" * 80)"
   ]
  },
  {
   "cell_type": "code",
   "execution_count": 42,
   "id": "6906ebf6",
   "metadata": {},
   "outputs": [
    {
     "data": {
      "image/png": "[encoded data removed]",
      "text/plain": [
       "<Figure size 1200x600 with 1 Axes>"
      ]
     },
     "metadata": {},
     "output_type": "display_data"
    }
   ],
   "source": [
    "# === Visualization\n",
    "labels = [f\"Q{i+1}\" for i in range(len(query_list))]\n",
    "x = range(len(query_list))\n",
    "width = 0.35\n",
    "\n",
    "plt.figure(figsize=(12, 6))\n",
    "plt.bar(x, avg_scores_minilm, width=width, label='MiniLM', color='salmon')\n",
    "plt.bar([i + width for i in x], avg_scores_openai, width=width, label='OpenAI', color='lightblue')\n",
    "plt.xlabel(\"Queries\")\n",
    "plt.ylabel(f\"Mean of Top-{top_k} Similarity Scores\")\n",
    "plt.title(f\"Mean Top-{top_k} Similarity Comparison: MiniLM vs OpenAI\")\n",
    "plt.xticks([i + width/2 for i in x], labels, rotation=45)\n",
    "plt.ylim(0, 1.1)\n",
    "plt.legend()\n",
    "plt.grid(True, linestyle='--', alpha=0.5)\n",
    "plt.tight_layout()\n",
    "plt.show()"
   ]
  },
  {
   "cell_type": "code",
   "execution_count": 43,
   "id": "dfa7bce4",
   "metadata": {},
   "outputs": [
    {
     "name": "stdout",
     "output_type": "stream",
     "text": [
      "📊 Evaluation Summary (Top-K Analysis):\n",
      "\n",
      "🧠 Mean Similarity Score\n",
      "   MiniLM : 0.7813\n",
      "   OpenAI : 0.6574\n",
      "\n",
      "🏆 Win Count (Higher Mean Score per Query)\n",
      "   MiniLM : 10 / 10\n",
      "   OpenAI : 0 / 10\n",
      "   Tie     : 0\n",
      "\n",
      "🎯 Precision@1 (proxy)\n",
      "   MiniLM : 100.00%\n",
      "   OpenAI : 0.00%\n",
      "\n",
      "🔁 Recall@3 (score > 0.5 assumed correct)\n",
      "   MiniLM : 100.00%\n",
      "   OpenAI : 90.00%\n",
      "\n",
      "📈 Mean Reciprocal Rank (proxy)\n",
      "   MiniLM : 0.29\n",
      "   OpenAI : 0.29\n"
     ]
    }
   ],
   "source": [
    "import numpy as np\n",
    "\n",
    "# Dummy top-k score lists from previous result (replace if needed)\n",
    "top_k = 3\n",
    "scores_minilm = np.array(avg_scores_minilm)  # avg scores across top-k\n",
    "scores_openai = np.array(avg_scores_openai)\n",
    "\n",
    "# === Mean Similarity Score\n",
    "mean_minilm = np.mean(scores_minilm)\n",
    "mean_openai = np.mean(scores_openai)\n",
    "\n",
    "# === Win Count\n",
    "minilm_wins = np.sum(scores_minilm > scores_openai)\n",
    "openai_wins = np.sum(scores_openai > scores_minilm)\n",
    "ties = np.sum(scores_minilm == scores_openai)\n",
    "\n",
    "# === Precision@1 Proxy (better model top-1 match score)\n",
    "precision_at_1_minilm = minilm_wins / len(scores_minilm)\n",
    "precision_at_1_openai = openai_wins / len(scores_openai)\n",
    "\n",
    "# === Recall@k Proxy (match > 0 threshold accepted)\n",
    "recall_at_k_minilm = np.sum(scores_minilm > 0.5) / len(scores_minilm)\n",
    "recall_at_k_openai = np.sum(scores_openai > 0.5) / len(scores_openai)\n",
    "\n",
    "# === MRR (Reciprocal Rank of correct match within top-k)\n",
    "# We use the inverse of the rank of the highest scoring match as a proxy\n",
    "# Here since we don't have actual ground-truth labels, we simulate MRR by scaling score\n",
    "# closer to 1 as better rank\n",
    "mrr_minilm = np.mean([1/(rank+1) for rank in np.argsort(-scores_minilm)])\n",
    "mrr_openai = np.mean([1/(rank+1) for rank in np.argsort(-scores_openai)])\n",
    "\n",
    "# === Output\n",
    "print(\"📊 Evaluation Summary (Top-K Analysis):\\n\")\n",
    "\n",
    "print(f\"🧠 Mean Similarity Score\")\n",
    "print(f\"   MiniLM : {mean_minilm:.4f}\")\n",
    "print(f\"   OpenAI : {mean_openai:.4f}\\n\")\n",
    "\n",
    "print(f\"🏆 Win Count (Higher Mean Score per Query)\")\n",
    "print(f\"   MiniLM : {minilm_wins} / {len(scores_minilm)}\")\n",
    "print(f\"   OpenAI : {openai_wins} / {len(scores_openai)}\")\n",
    "print(f\"   Tie     : {ties}\\n\")\n",
    "\n",
    "print(f\"🎯 Precision@1 (proxy)\")\n",
    "print(f\"   MiniLM : {precision_at_1_minilm:.2%}\")\n",
    "print(f\"   OpenAI : {precision_at_1_openai:.2%}\\n\")\n",
    "\n",
    "print(f\"🔁 Recall@{top_k} (score > 0.5 assumed correct)\")\n",
    "print(f\"   MiniLM : {recall_at_k_minilm:.2%}\")\n",
    "print(f\"   OpenAI : {recall_at_k_openai:.2%}\\n\")\n",
    "\n",
    "print(f\"📈 Mean Reciprocal Rank (proxy)\")\n",
    "print(f\"   MiniLM : {mrr_minilm:.2f}\")\n",
    "print(f\"   OpenAI : {mrr_openai:.2f}\")"
   ]
  },
  {
   "cell_type": "markdown",
   "id": "e224e4b2",
   "metadata": {},
   "source": [
    "### **🧠 Embedding Evaluation Summary (Top-3 Comparison — Full QA Dataset)**\n",
    "\n",
    "We compared two embedding models — `MiniLM` and `OpenAI (text-embedding-3-small)` — on 10 user-style legal questions using the **full QA dataset (13K+)** and `top_k = 3`. Results were averaged across the top-k matches to evaluate broader semantic relevance.\n",
    "\n",
    "#### **📊 Evaluation Results**\n",
    "\n",
    "| Metric             | MiniLM       | OpenAI       |\n",
    "|--------------------|--------------|--------------|\n",
    "| **Mean Score**     | 0.7813       | 0.6574       |\n",
    "| **Win Count**      | 10 / 10      | 0 / 10       |\n",
    "| **Precision@1**    | 100%         | 0%           |\n",
    "| **Recall@3**       | 100%         | 90%          |\n",
    "| **MRR (proxy)**    | 0.29         | 0.29         |\n",
    "\n",
    "#### **✅ Conclusion**\n",
    "\n",
    "With the full legal QA set, **MiniLM significantly outperformed OpenAI in every metric**. It consistently retrieved more relevant answers in the top positions. Despite OpenAI occasionally retrieving semantically rich results, its lower ranking made it less effective.\n",
    "\n",
    "Given its **high accuracy, low latency, and zero cost**, **MiniLM is recommended as the default embedding model** for legal RAG systems in production environments.\n",
    "\n",
    "> OpenAI can optionally be offered as a Pro-tier semantic fallback for long-form or multilingual queries."
   ]
  },
  {
   "cell_type": "code",
   "execution_count": null,
   "id": "fdb54e4d",
   "metadata": {},
   "outputs": [
    {
     "name": "stdout",
     "output_type": "stream",
     "text": [
      "Index 'adilakil-main-openai' deleted.\n"
     ]
    }
   ],
   "source": [
    "# Delete the unused index\n",
    "if \"adilakil-main-openai\" in pc.list_indexes().names():\n",
    "    pc.delete_index(\"adilakil-main-openai\")\n",
    "    print(\"Index 'adilakil-main-openai' deleted.\")\n",
    "else:\n",
    "    print(\"Index 'adilakil-main-openai' not found.\")"
   ]
  },
  {
   "cell_type": "markdown",
   "id": "fc549709",
   "metadata": {},
   "source": [
    "### **🔢 Top-k Selection Summary for MiniLM**"
   ]
  },
  {
   "cell_type": "code",
   "execution_count": 69,
   "id": "9ac0cf30",
   "metadata": {},
   "outputs": [
    {
     "name": "stdout",
     "output_type": "stream",
     "text": [
      "📈 Calculating average similarity for varying top-k values...\n",
      "\n",
      "Top-1 → Mean Similarity Score: 0.7904\n",
      "Top-3 → Mean Similarity Score: 0.7813\n",
      "Top-5 → Mean Similarity Score: 0.7758\n",
      "Top-7 → Mean Similarity Score: 0.7721\n",
      "Top-10 → Mean Similarity Score: 0.7678\n",
      "Top-12 → Mean Similarity Score: 0.7655\n",
      "Top-15 → Mean Similarity Score: 0.7625\n"
     ]
    }
   ],
   "source": [
    "import numpy as np\n",
    "import matplotlib.pyplot as plt\n",
    "\n",
    "# Define k values to test\n",
    "k_values = [1, 3, 5, 7,10, 12, 15]\n",
    "mean_similarity_scores = []\n",
    "\n",
    "print(\"📈 Calculating average similarity for varying top-k values...\\n\")\n",
    "\n",
    "for k in k_values:\n",
    "    query_means = []\n",
    "\n",
    "    for query in query_list:\n",
    "        vec = minilm_model.encode(query).tolist()\n",
    "        result = index_minilm.query(vector=vec, top_k=k, include_metadata=True)\n",
    "\n",
    "        scores = [m[\"score\"] for m in result.get(\"matches\", [])]\n",
    "\n",
    "        if scores:\n",
    "            query_means.append(np.mean(scores))\n",
    "        else:\n",
    "            query_means.append(0)\n",
    "\n",
    "    mean_k_score = np.mean(query_means)\n",
    "    mean_similarity_scores.append(mean_k_score)\n",
    "    print(f\"Top-{k} → Mean Similarity Score: {mean_k_score:.4f}\")"
   ]
  },
  {
   "cell_type": "markdown",
   "id": "46f53a48",
   "metadata": {},
   "source": [
    "We evaluated the impact of different `top_k` values on MiniLM's mean similarity scores using the full QA dataset (13,782 entries).\n",
    "\n",
    "#### **📈 Observations**\n",
    "\n",
    "- **k = 1** yields the highest similarity, but lacks redundancy.\n",
    "- **k = 3** offers a strong balance between relevance and diversity.\n",
    "- **k = 5** slightly reduces quality but adds useful variation.\n",
    "- **k > 7** introduces noise and drops average relevance.\n",
    "\n",
    "#### **✅ Final Decision**\n",
    "\n",
    "> For optimal performance in legal RAG applications, we recommend **`top_k = 3`** as the default for MiniLM."
   ]
  },
  {
   "cell_type": "code",
   "execution_count": 70,
   "id": "52bbe831",
   "metadata": {},
   "outputs": [
    {
     "data": {
      "image/png": "[encoded data removed]",
      "text/plain": [
       "<Figure size 1000x500 with 1 Axes>"
      ]
     },
     "metadata": {},
     "output_type": "display_data"
    }
   ],
   "source": [
    "# === Plotting\n",
    "plt.figure(figsize=(10, 5))\n",
    "plt.plot(k_values, mean_similarity_scores, marker='o', linewidth=2, color='crimson')\n",
    "plt.title(\"MiniLM - Mean Similarity Score by Top-k\")\n",
    "plt.xlabel(\"Top-k\")\n",
    "plt.ylabel(\"Mean Similarity Score\")\n",
    "plt.xticks(k_values)\n",
    "plt.ylim(0.76, 0.795)  # Zoom y-axis\n",
    "plt.grid(True, linestyle='--', alpha=0.5)\n",
    "plt.tight_layout()\n",
    "plt.show()"
   ]
  },
  {
   "cell_type": "code",
   "execution_count": 86,
   "id": "d6fd425a",
   "metadata": {},
   "outputs": [
    {
     "name": "stdout",
     "output_type": "stream",
     "text": [
      "\n",
      "🔎 Question: Deprem gibi durumlarda seçimler ertelenebilir mi? Kim karar veriyor buna?\n",
      "Top-3 match scores: [0.6714, 0.6699, 0.6674]\n",
      "  → Threshold 0.6: 3 match(es) ≥ threshold\n",
      "  → Threshold 0.65: 3 match(es) ≥ threshold\n",
      "  → Threshold 0.7: 0 match(es) ≥ threshold\n",
      "  → Threshold 0.75: 0 match(es) ≥ threshold\n",
      "  → Threshold 0.8: 0 match(es) ≥ threshold\n",
      "  → Threshold 0.85: 0 match(es) ≥ threshold\n",
      "  → Threshold 0.9: 0 match(es) ≥ threshold\n",
      "\n",
      "🔎 Question: HSK tam olarak ne iş yapar? Bağımsız mı hareket eder?\n",
      "Top-3 match scores: [0.8468, 0.8189, 0.8179]\n",
      "  → Threshold 0.6: 3 match(es) ≥ threshold\n",
      "  → Threshold 0.65: 3 match(es) ≥ threshold\n",
      "  → Threshold 0.7: 3 match(es) ≥ threshold\n",
      "  → Threshold 0.75: 3 match(es) ≥ threshold\n",
      "  → Threshold 0.8: 3 match(es) ≥ threshold\n",
      "  → Threshold 0.85: 0 match(es) ≥ threshold\n",
      "  → Threshold 0.9: 0 match(es) ≥ threshold\n",
      "\n",
      "🔎 Question: Zorunlu din dersi varken din özgürlüğünden söz edebilir miyiz?\n",
      "Top-3 match scores: [0.6541, 0.6536, 0.6425]\n",
      "  → Threshold 0.6: 3 match(es) ≥ threshold\n",
      "  → Threshold 0.65: 2 match(es) ≥ threshold\n",
      "  → Threshold 0.7: 0 match(es) ≥ threshold\n",
      "  → Threshold 0.75: 0 match(es) ≥ threshold\n",
      "  → Threshold 0.8: 0 match(es) ≥ threshold\n",
      "  → Threshold 0.85: 0 match(es) ≥ threshold\n",
      "  → Threshold 0.9: 0 match(es) ≥ threshold\n",
      "\n",
      "🔎 Question: Savaş ilanı ile olağanüstü hal arasında ne fark var?\n",
      "Top-3 match scores: [0.8606, 0.8124, 0.812]\n",
      "  → Threshold 0.6: 3 match(es) ≥ threshold\n",
      "  → Threshold 0.65: 3 match(es) ≥ threshold\n",
      "  → Threshold 0.7: 3 match(es) ≥ threshold\n",
      "  → Threshold 0.75: 3 match(es) ≥ threshold\n",
      "  → Threshold 0.8: 3 match(es) ≥ threshold\n",
      "  → Threshold 0.85: 1 match(es) ≥ threshold\n",
      "  → Threshold 0.9: 0 match(es) ≥ threshold\n",
      "\n",
      "🔎 Question: Bir milletvekilinin dokunulmazlığı ne zaman kaldırılır? Bu kararı kim verir?\n",
      "Top-3 match scores: [0.845, 0.8383, 0.8353]\n",
      "  → Threshold 0.6: 3 match(es) ≥ threshold\n",
      "  → Threshold 0.65: 3 match(es) ≥ threshold\n",
      "  → Threshold 0.7: 3 match(es) ≥ threshold\n",
      "  → Threshold 0.75: 3 match(es) ≥ threshold\n",
      "  → Threshold 0.8: 3 match(es) ≥ threshold\n",
      "  → Threshold 0.85: 0 match(es) ≥ threshold\n",
      "  → Threshold 0.9: 0 match(es) ≥ threshold\n",
      "\n",
      "🔎 Question: Cumhurbaşkanı bir yasayı beğenmezse veto edebiliyor mu? Bunun sınırları var mı?\n",
      "Top-3 match scores: [0.7729, 0.7666, 0.7616]\n",
      "  → Threshold 0.6: 3 match(es) ≥ threshold\n",
      "  → Threshold 0.65: 3 match(es) ≥ threshold\n",
      "  → Threshold 0.7: 3 match(es) ≥ threshold\n",
      "  → Threshold 0.75: 3 match(es) ≥ threshold\n",
      "  → Threshold 0.8: 0 match(es) ≥ threshold\n",
      "  → Threshold 0.85: 0 match(es) ≥ threshold\n",
      "  → Threshold 0.9: 0 match(es) ≥ threshold\n",
      "\n",
      "🔎 Question: Devlet hangi durumlarda temel hakları sınırlayabilir?\n",
      "Top-3 match scores: [0.9234, 0.9177, 0.9177]\n",
      "  → Threshold 0.6: 3 match(es) ≥ threshold\n",
      "  → Threshold 0.65: 3 match(es) ≥ threshold\n",
      "  → Threshold 0.7: 3 match(es) ≥ threshold\n",
      "  → Threshold 0.75: 3 match(es) ≥ threshold\n",
      "  → Threshold 0.8: 3 match(es) ≥ threshold\n",
      "  → Threshold 0.85: 3 match(es) ≥ threshold\n",
      "  → Threshold 0.9: 3 match(es) ≥ threshold\n",
      "\n",
      "🔎 Question: Devlet memuru olmak için ne gibi şartlar var? Herkes kamu görevine girebilir mi?\n",
      "Top-3 match scores: [0.6624, 0.6518, 0.6481]\n",
      "  → Threshold 0.6: 3 match(es) ≥ threshold\n",
      "  → Threshold 0.65: 2 match(es) ≥ threshold\n",
      "  → Threshold 0.7: 0 match(es) ≥ threshold\n",
      "  → Threshold 0.75: 0 match(es) ≥ threshold\n",
      "  → Threshold 0.8: 0 match(es) ≥ threshold\n",
      "  → Threshold 0.85: 0 match(es) ≥ threshold\n",
      "  → Threshold 0.9: 0 match(es) ≥ threshold\n",
      "\n",
      "🔎 Question: Anayasa Mahkemesi’ne bireysel başvuru ne zaman yapılabilir? Ne tür hak ihlalleri için geçerli?\n",
      "Top-3 match scores: [0.8176, 0.8171, 0.8163]\n",
      "  → Threshold 0.6: 3 match(es) ≥ threshold\n",
      "  → Threshold 0.65: 3 match(es) ≥ threshold\n",
      "  → Threshold 0.7: 3 match(es) ≥ threshold\n",
      "  → Threshold 0.75: 3 match(es) ≥ threshold\n",
      "  → Threshold 0.8: 3 match(es) ≥ threshold\n",
      "  → Threshold 0.85: 0 match(es) ≥ threshold\n",
      "  → Threshold 0.9: 0 match(es) ≥ threshold\n",
      "\n",
      "🔎 Question: Cumhurbaşkanı kendi başına kararname çıkarabiliyor mu? Bunlar mahkemeye taşınabilir mi?\n",
      "Top-3 match scores: [0.8501, 0.8349, 0.8343]\n",
      "  → Threshold 0.6: 3 match(es) ≥ threshold\n",
      "  → Threshold 0.65: 3 match(es) ≥ threshold\n",
      "  → Threshold 0.7: 3 match(es) ≥ threshold\n",
      "  → Threshold 0.75: 3 match(es) ≥ threshold\n",
      "  → Threshold 0.8: 3 match(es) ≥ threshold\n",
      "  → Threshold 0.85: 1 match(es) ≥ threshold\n",
      "  → Threshold 0.9: 0 match(es) ≥ threshold\n"
     ]
    }
   ],
   "source": [
    "import os\n",
    "import pandas as pd\n",
    "import matplotlib.pyplot as plt\n",
    "from dotenv import load_dotenv\n",
    "from pinecone import Pinecone\n",
    "from sentence_transformers import SentenceTransformer\n",
    "import numpy as np\n",
    "\n",
    "# === Config ===\n",
    "load_dotenv()\n",
    "PINECONE_API_KEY = os.getenv(\"PINECONE_API_KEY\")\n",
    "INDEX_NAME = \"adilakil-main-minilm\"\n",
    "NAMESPACE = \"defaul\"\n",
    "TOP_K = 3\n",
    "THRESHOLDS = [0.6, 0.65, 0.7, 0.75, 0.8, 0.85, 0.9]\n",
    "\n",
    "# === Init ===\n",
    "pc = Pinecone(api_key=PINECONE_API_KEY)\n",
    "index = pc.Index(INDEX_NAME)\n",
    "embedding_model = SentenceTransformer(\"all-MiniLM-L6-v2\")\n",
    "\n",
    "# === Collect results ===\n",
    "records = []\n",
    "\n",
    "for question in query_list:\n",
    "    vec = embedding_model.encode(question).tolist()\n",
    "    result = index.query(\n",
    "        vector=vec,\n",
    "        top_k=TOP_K,\n",
    "        include_metadata=True,\n",
    "    )\n",
    "\n",
    "    for threshold in THRESHOLDS:\n",
    "        filtered = [m for m in result.matches if m.score >= threshold]\n",
    "        records.append({\n",
    "            \"question\": question,\n",
    "            \"threshold\": threshold,\n",
    "            \"match_count\": len(filtered)\n",
    "        })\n",
    "\n",
    "# === DataFrame & Pivot\n",
    "df = pd.DataFrame(records)\n",
    "pivot_df = df.pivot(index=\"threshold\", columns=\"question\", values=\"match_count\")\n",
    "\n",
    "# === Collect results ===\n",
    "records = []\n",
    "\n",
    "for question in query_list:\n",
    "    vec = embedding_model.encode(question).tolist()\n",
    "    result = index.query(\n",
    "        vector=vec,\n",
    "        top_k=TOP_K,\n",
    "        include_metadata=True,\n",
    "    )\n",
    "\n",
    "    print(f\"\\n🔎 Question: {question}\")\n",
    "    print(f\"Top-{TOP_K} match scores: {[round(m.score, 4) for m in result.matches]}\")\n",
    "\n",
    "    for threshold in THRESHOLDS:\n",
    "        filtered = [m for m in result.matches if m.score >= threshold]\n",
    "        count = len(filtered)\n",
    "        print(f\"  → Threshold {threshold}: {count} match(es) ≥ threshold\")\n",
    "\n",
    "        records.append({\n",
    "            \"question\": question,\n",
    "            \"threshold\": threshold,\n",
    "            \"match_count\": count\n",
    "        })"
   ]
  },
  {
   "cell_type": "markdown",
   "id": "98d5696f",
   "metadata": {},
   "source": [
    "### **📊 Threshold-Based Filtering Evaluation (MiniLM Embeddings)**\n",
    "\n",
    "We evaluated how different score thresholds affect the number of matched QA pairs returned from the top-3 results across 10 real-world legal questions.\n",
    "\n",
    "---\n",
    "\n",
    "#### **🔁 Threshold vs Match Count**\n",
    "\n",
    "| Threshold | Avg. Match Count (Top-3) | Notes |\n",
    "|-----------|---------------------------|-------|\n",
    "| **0.60**  | ✅ 3.0 (full recall)       | Useful but too permissive (low quality risk) |\n",
    "| **0.65**  | ✅ ~2.8                    | Most questions still pass confidently |\n",
    "| **0.70**  | ⚠️ ~2.0                    | Several questions start to drop matches |\n",
    "| **0.75**  | ⚠️ ~1.5                    | Filtering becomes aggressive |\n",
    "| **0.80**  | ❌ ~1.0 or less            | Only strong matches survive |\n",
    "| **0.85**  | ❌ < 1.0                   | Often zero matches |\n",
    "| **0.90**  | ❌ 0.0 in most questions   | Too strict for top-3 RAG usage |\n",
    "\n",
    "---\n",
    "\n",
    "### **🎯 Recommended Threshold**\n",
    "\n",
    "> For MiniLM with top-3 semantic search, a **threshold of `0.70`** is the ideal cutoff.\n",
    ">\n",
    "> It balances precision without overly penalizing valid matches. Results below `0.6` should be treated with caution.\n",
    "\n",
    "---\n",
    "\n",
    "### **🧪 Observations**\n",
    "\n",
    "- **Q7, Q9, Q10** are robust across all thresholds — well-covered topics.\n",
    "- **Q1, Q3, Q8** drop off after `0.65`, showing weaker semantic coverage.\n",
    "- **Threshold ≥ 0.85** should only be used when very high precision is required (e.g., critical decision support systems)."
   ]
  },
  {
   "cell_type": "code",
   "execution_count": 89,
   "id": "4296a0b3",
   "metadata": {},
   "outputs": [
    {
     "data": {
      "image/png": "[encoded data removed]",
      "text/plain": [
       "<Figure size 1200x600 with 1 Axes>"
      ]
     },
     "metadata": {},
     "output_type": "display_data"
    }
   ],
   "source": [
    "import numpy as np\n",
    "import matplotlib.pyplot as plt\n",
    "\n",
    "# === Setup\n",
    "questions = pivot_df.columns.tolist()\n",
    "thresholds = pivot_df.index.tolist()\n",
    "bar_width = 0.125\n",
    "x = np.arange(len(questions))\n",
    "\n",
    "# === Plot\n",
    "plt.figure(figsize=(12, 6))\n",
    "colors = plt.cm.Set2.colors\n",
    "\n",
    "for i, threshold in enumerate(thresholds):\n",
    "    offsets = x + (i - len(thresholds)/2) * bar_width + bar_width/2\n",
    "    plt.bar(offsets, pivot_df.loc[threshold], width=bar_width, color=colors[i % len(colors)], label=f\"≥ {threshold}\")\n",
    "\n",
    "# === Axis formatting\n",
    "plt.xticks(x, [f\"Q{i+1}\" for i in range(len(questions))])\n",
    "plt.yticks(range(0, TOP_K + 1))\n",
    "plt.xlabel(\"Questions\")\n",
    "plt.ylabel(\"Match Count ≥ Threshold\")\n",
    "plt.title(\"Threshold Comparison per Question (Grouped Bar View)\")\n",
    "plt.grid(True, axis='y', linestyle='--', alpha=0.4)\n",
    "plt.legend(title=\"Threshold\", loc=\"upper center\", bbox_to_anchor=(0.5, -0.15), ncol=len(thresholds))\n",
    "plt.tight_layout()\n",
    "plt.show()"
   ]
  }
 ],
 "metadata": {
  "kernelspec": {
   "display_name": "Python 3",
   "language": "python",
   "name": "python3"
  },
  "language_info": {
   "codemirror_mode": {
    "name": "ipython",
    "version": 3
   },
   "file_extension": ".py",
   "mimetype": "text/x-python",
   "name": "python",
   "nbconvert_exporter": "python",
   "pygments_lexer": "ipython3",
   "version": "3.11.7"
  }
 },
 "nbformat": 4,
 "nbformat_minor": 5
}
